{
 "cells": [
  {
   "cell_type": "markdown",
   "metadata": {},
   "source": [
    "# Getting started with the XTRF HP API\n",
    "\n",
    "Pre-Requirements:\n",
    "* Python 3 including the library Requests \n",
    "* Jupyter Lab\n",
    "* A valid HP API token for the XTRF instance you are working with\n",
    "\n",
    "TODO:\n",
    "\n",
    "1. create a classic project\n",
    "2. upload a file\n",
    "3. add this file to one of the tasks\n",
    "\n",
    "\n",
    "<br><br><br><br><br><br><br><br><br><br><br><br><br><br><br><br>\n",
    "\n",
    "\n",
    "## 1. Create a classic project\n",
    "\n",
    "First, we import three libraries to help us deal with HTTP requests, JSON responses and epoch time. At the same time, we also import some information that is user specific from the file secrets, namely the server base URL and the HP API token that will be used to authenticate our calls to the server.\n",
    "\n"
   ]
  },
  {
   "cell_type": "code",
   "execution_count": 1,
   "metadata": {},
   "outputs": [],
   "source": [
    "import requests\n",
    "import json\n",
    "import time\n",
    "\n",
    "from secrets import server_url, token  # edit the secrets.py file and enter your details"
   ]
  },
  {
   "cell_type": "markdown",
   "metadata": {},
   "source": [
    "<br><br><br><br><br><br><br><br><br><br><br><br><br><br><br><br>\n",
    "\n",
    "In the API documentation we find out that a POST request to the endpoint \"/projects\" will create a new Classic Project.\n",
    "\n",
    "![img](images/post_projects.png)\n",
    "<br><br><br><br><br><br><br><br><br><br><br><br><br><br><br>\n",
    "There are 5 HTTP request methods:\n",
    "* GET (read data)\n",
    "* POST (send data)\n",
    "* PUT (send data to replace/update server side data)\n",
    "* DELETE (delete server side data)\n",
    "* (PATCH) (update data, but rarely used) \n",
    "<br><br>\n",
    "\n",
    "Our POST HTTP request will send data to the server.\n",
    "\n",
    "\n",
    "<br><br><br><br><br><br><br><br><br><br><br><br><br><br><br><br><br><br>\n",
    "The \"/projects\" POST endpoint takes data in JSON format, structured in a specific way. (This is the information XTRF uses to create the project.)\n"
   ]
  },
  {
   "cell_type": "code",
   "execution_count": null,
   "metadata": {},
   "outputs": [],
   "source": [
    "project_model = {\n",
    "          \"customerId\": 1,                      # <- This ID is specific to the XTRF instance / REQUIRED\n",
    "          \"sourceLanguageId\": 56,               # <- This ID is specific to the XTRF instance \n",
    "          \"targetLanguagesIds\": [               # <- This square bracket starts an \"array\" \n",
    "                                                # if no TL ids are specified, the project will be created without tasks\n",
    "            90,                                 # <- This ID is specific to the XTRF instance\n",
    "            101,                                # <- This ID is specific to the XTRF instance\n",
    "            49                                  # <- This ID is specific to the XTRF instance\n",
    "          ],                                    # <- This square bracket closes the array\n",
    "          \"specializationId\": 7,                # <- This ID is specific to the XTRF instance / REQUIRED\n",
    "          \"serviceId\": 8,                       # <- This ID is specific to the XTRF instance / REQUIRED\n",
    "          \"dates\": {                            # <- This curly brace opens a nested JSON object\n",
    "            \"startDate\": {                      # <- optional, project will get time of creating if not specified\n",
    "              \"time\": 1606465852000             # <- so-called epoch time, in milliseconds\n",
    "            },\n",
    "            \"deadline\": {                       # <- optional, project can be created w/o specifying DL\n",
    "              \"time\": 1606638403369             # <- so-called epoch time, in milliseconds\n",
    "            }\n",
    "          },                                    # <- This curly brace closes the nested JSON object\n",
    "          \"name\": \"The API generated project\",  # <- The name of the project, will be carried over to tasks (optional)\n",
    "          \"people\": {                           # <- people is optional, XTRF will choose defaults if not specified\n",
    "            \"responsiblePersons\": {\n",
    "              \"projectManagerId\": 1             # <- This ID is specific to the XTRF instance \n",
    "            },\n",
    "            \"customerContacts\": {               # <- customerContacts is optional, if not set, XTRF will add default customer contact\n",
    "                \"primaryId\": 1,                 # <- This ID is specific to the XTRF instance\n",
    "                \"sendBackToId\": 2               # <- This ID is specific to the XTRF instance\n",
    "            }\n",
    "          },\n",
    "          \"instructions\": {                     # <- instructions is optional\n",
    "            \"forProvider\": \"You don't have to put instructions to the vendors here, it's optional. \\\n",
    "                            But if you do, they end up at the project level\",\n",
    "            \"fromCustomer\": \"You don't have to put instructions to the customer here either, it's also optional. \\\n",
    "                            But if you do, they also end up at the project level\",\n",
    "          },\n",
    "          \"categoriesIds\": [                    # <- categoriesIds is optional\n",
    "            5,\n",
    "            1\n",
    "          ],\n",
    "          \"inputFiles\": [                       # <- inputFiles is optional too, and takes an array of file models\n",
    "            {                                   # <- the file model must contain one of the following: url, token or content.\n",
    "                \"name\": \"openapi.json\",\n",
    "                \"url\": \"https://summithenrik.s.xtrf.eu/home-api/openapi.json\",\n",
    "                \"token\": \"string_returned_when_uploading_a_file\",\n",
    "                \"content\": \"This string will be converted to an RTF file, just like when you add a string in the UI\",\n",
    "                \"category\": \"WORKFILE\"          # One of the following: WORKFILE, TM, DICTIONARY, REF, LOG_FILE\n",
    "              \n",
    "            }\n",
    "          ]\n",
    "        }"
   ]
  },
  {
   "cell_type": "markdown",
   "metadata": {},
   "source": [
    "\n",
    "<br><br><br><br><br><br><br><br><br><br><br><br><br><br><br><br>\n",
    "\n",
    "Things get easier if you think of this as a structured way of bundling all the clicks and inputs you would normally perform when registering a project using the XTRF home portal UI. \n",
    "\n",
    "![img](images/1.png) \n",
    "<br><br><br><br><br><br><br>\n",
    "![img](images/2.png)\n",
    "\n",
    "\n",
    "\n",
    "<br><br><br><br><br><br><br><br>\n",
    "\n",
    "\n",
    "\n",
    "\n",
    "\n",
    "\n"
   ]
  },
  {
   "cell_type": "markdown",
   "metadata": {},
   "source": [
    "<br><br><br><br><br><br>\n",
    "#### Dates\n",
    "\n",
    "For Unix based systems, the current epoch started January 1 1970, 00:00 and epoch time of some point in time is the number of seconds between epoch start and that point in time.\n",
    "<br><br><br><br><br><br>"
   ]
  },
  {
   "cell_type": "code",
   "execution_count": 7,
   "metadata": {},
   "outputs": [],
   "source": [
    "now = time.time()  # time since epoch start in seconds\n",
    "now_in_ms = now * 1000  # time since epoch start in milliseconds\n",
    "two_days_in_ms = 60 * 60 * 24 * 2 * 1000 #  60 seconds * 60 minutes * 24 hours * 2 = 48 hours from now\n",
    "\n",
    "deadline = now_in_ms + two_days_in_ms # now in milliseconds + 48 hours worth of milliseconds"
   ]
  },
  {
   "cell_type": "code",
   "execution_count": 8,
   "metadata": {},
   "outputs": [
    {
     "data": {
      "text/plain": [
       "1607501253173.5652"
      ]
     },
     "execution_count": 8,
     "metadata": {},
     "output_type": "execute_result"
    }
   ],
   "source": [
    "time.time() * 1000"
   ]
  },
  {
   "cell_type": "markdown",
   "metadata": {},
   "source": [
    "<br><br><br><br><br><br><br><br><br><br><br><br><br><br>\n",
    "\n",
    "### Preparing the request\n",
    "\n",
    "We know the endpoint, we know the frame data of the project we want to create. Last thing we need is to authentication, so let's that up and prepare the request. \n",
    "\n",
    "<br><br><br><br><br><br><br><br><br><br><br><br><br><br>"
   ]
  },
  {
   "cell_type": "code",
   "execution_count": 9,
   "metadata": {},
   "outputs": [],
   "source": [
    "# authentication header - this will remain the same and be used in all subsequent requests - the token was imported right at the start\n",
    "\n",
    "auth_header = {\"X-AUTH-ACCESS-TOKEN\": token}  # from the docs: \"Access token must be provided in a static HTTP header \"X-AUTH-ACCESS-TOKEN\" "
   ]
  },
  {
   "cell_type": "code",
   "execution_count": 11,
   "metadata": {},
   "outputs": [
    {
     "data": {
      "text/plain": [
       "'https://summithenrik.s.xtrf.eu/home-api/projects'"
      ]
     },
     "execution_count": 11,
     "metadata": {},
     "output_type": "execute_result"
    }
   ],
   "source": [
    "#  endpoint - base URL is https://YOUR_XTRF_URL/home-api\n",
    "url = server_url + \"/projects\"\n",
    "url"
   ]
  },
  {
   "cell_type": "code",
   "execution_count": null,
   "metadata": {},
   "outputs": [],
   "source": []
  },
  {
   "cell_type": "code",
   "execution_count": 12,
   "metadata": {},
   "outputs": [],
   "source": [
    "#  data \n",
    "data = {\n",
    "          \"customerId\": 1,                      # <- This ID is specific to the XTRF instance \n",
    "          \"sourceLanguageId\": 219,              # <- This ID is specific to the XTRF instance \n",
    "          \"targetLanguagesIds\": [               # <- This square bracket starts an array  \n",
    "            73                                  # <- This ID is specific to the XTRF instance \n",
    "          ],                                    # <- This square bracket closes the array\n",
    "          \"specializationId\": 7,                # <- This ID is specific to the XTRF instance\n",
    "          \"serviceId\": 8,                       # <- This ID is specific to the XTRF instance\n",
    "          \"dates\": {                            # <- This curly brace opens a nested JSON object\n",
    "            \"startDate\": {\n",
    "              \"time\": now_in_ms                 # <- so-called epoch time, in milliseconds - set above\n",
    "            },\n",
    "            \"deadline\": {\n",
    "              \"time\": deadline                  # <- so-called epoch time, in milliseconds - also set above\n",
    "            }\n",
    "          },                                    # <- This curly brace closes the nested JSON object\n",
    "          \"name\": \"Commented project creation\",             # <- The name of the project, will be carried over to tasks \n",
    "          \"people\": {\n",
    "            \"responsiblePersons\": {\n",
    "              \"projectManagerId\": 1             # <- This ID is specific to the XTRF instance \n",
    "            },\n",
    "            \"customerContacts\": {               # <- customerContacts is optional, if not set, XTRF will add default customer contact\n",
    "                \"primaryId\": 1,                 # <- This ID is specific to the XTRF instance\n",
    "                \"sendBackToId\": 2               # <- This ID is specific to the XTRF instance\n",
    "            }\n",
    "          },\n",
    "          \"instructions\": {                     # <- instructions are optional\n",
    "            \"forProvider\": \"Please translate this!\",\n",
    "            \"fromCustomer\": \"The naming of this field has always puzzled me. :)\",\n",
    "          }\n",
    "        }"
   ]
  },
  {
   "cell_type": "markdown",
   "metadata": {},
   "source": [
    "<br><br><br><br><br><br><br><br><br><br><br><br><br><br>\n",
    "Now we are all set! The syntax for requests is straightforward:\n"
   ]
  },
  {
   "cell_type": "code",
   "execution_count": 13,
   "metadata": {},
   "outputs": [],
   "source": [
    "response = requests.post(url, json=data, headers=auth_header)  # Requests has excellent docs here: https://requests.readthedocs.io/\n",
    "\n",
    "\n",
    "\n",
    "\n",
    "\n",
    "\n",
    "\n",
    "\n",
    "\n",
    "\n",
    "\n"
   ]
  },
  {
   "cell_type": "code",
   "execution_count": null,
   "metadata": {},
   "outputs": [],
   "source": [
    "print(response.content)"
   ]
  },
  {
   "cell_type": "code",
   "execution_count": null,
   "metadata": {},
   "outputs": [],
   "source": [
    "from pprint import pprint  # pprint makes prints in a way that is easier for humans to read\n",
    "loaded_json = json.loads(response.content)\n",
    "\n",
    "pprint(loaded_json)"
   ]
  },
  {
   "cell_type": "markdown",
   "metadata": {},
   "source": [
    "<br><br><br><br><br><br><br><br><br><br><br><br><br><br><br><br><br><br><br><br><br><br><br><br><br><br><br><br>\n",
    "Here we see that the POST to create the project does not return the full project data - the tasks are missing!\n",
    "\n",
    "Therefore we need to make another request to get the complete picture, and there is an endpoint for this:\n",
    "\n",
    "![img](images/get_projects_projectid.png)\n",
    "\n",
    "Here we see two things: \n",
    "1. To get the project data, we need to reference the project ID in the endpoint. Good thing we saved the response!\n",
    "2. To get the task data, we need to add a parameter to the call. \n",
    "\n",
    "So let's set up that request!"
   ]
  },
  {
   "cell_type": "code",
   "execution_count": null,
   "metadata": {},
   "outputs": [],
   "source": [
    "# project ID\n",
    "project_id = str(loaded_json[\"id\"])\n",
    "project_id"
   ]
  },
  {
   "cell_type": "code",
   "execution_count": null,
   "metadata": {},
   "outputs": [],
   "source": [
    "# endpoint\n",
    "url = server_url + \"/projects/\" + project_id\n",
    "url"
   ]
  },
  {
   "cell_type": "code",
   "execution_count": null,
   "metadata": {},
   "outputs": [],
   "source": [
    "#parameters\n",
    "parameters = {\"embed\": \"tasks\"}  # see the Requests docs about passing parameters: https://requests.readthedocs.io/en/master/user/quickstart/#passing-parameters-in-urls"
   ]
  },
  {
   "cell_type": "code",
   "execution_count": null,
   "metadata": {},
   "outputs": [],
   "source": [
    "\n",
    "response = requests.get(url, params=parameters, headers=auth_header)\n",
    "complete_project_data = json.loads(response.content)"
   ]
  },
  {
   "cell_type": "code",
   "execution_count": null,
   "metadata": {},
   "outputs": [],
   "source": [
    "pprint(complete_project_data)"
   ]
  },
  {
   "cell_type": "code",
   "execution_count": null,
   "metadata": {},
   "outputs": [],
   "source": []
  },
  {
   "cell_type": "markdown",
   "metadata": {},
   "source": [
    "# 2. Uploading a file\n",
    "\n",
    "Uploading files to XTRF is a two-step process: First you send the file data to XTRF, which then responds with token, which will be used to refer to that file in a subsequent call. \n",
    "\n",
    "![img](images/post_files.png)\n",
    "\n",
    "Setting up the request, we need to prepare the file data by opening the file and reading its contents and prepare the meta-data that must be sent along with the file data:"
   ]
  },
  {
   "cell_type": "code",
   "execution_count": null,
   "metadata": {},
   "outputs": [],
   "source": [
    "#  endpoint\n",
    "url = server_url + \"/files\"\n",
    "\n",
    "#  file contents\n",
    "file = {'file': open(\"source_file.docx\", \"rb\")}\n",
    "\n",
    "#  file meta data (name)\n",
    "data = {\"fileName\": \"source_file.docx\"}\n",
    "            \n"
   ]
  },
  {
   "cell_type": "code",
   "execution_count": null,
   "metadata": {},
   "outputs": [],
   "source": [
    "response = requests.post(server_url + \"/files\", files=file, json=data, headers=auth_header)"
   ]
  },
  {
   "cell_type": "code",
   "execution_count": null,
   "metadata": {},
   "outputs": [],
   "source": [
    "loaded_json = json.loads(response.content)\n",
    "pprint(loaded_json)"
   ]
  },
  {
   "cell_type": "code",
   "execution_count": null,
   "metadata": {},
   "outputs": [],
   "source": [
    "file_token = loaded_json[\"token\"]"
   ]
  },
  {
   "cell_type": "markdown",
   "metadata": {},
   "source": [
    "\n",
    "So, we have uploaded the file, and have the token to prove it. Onwards to the last step:\n",
    "\n",
    "## 3. Adding the file to a task\n",
    "\n",
    "We now have the project data, including task IDs. And we have uploaded the source file to XTRF. Last thing we shall do is to add it to one of the tasks. \n",
    "\n",
    "Let's look at the documentation.\n",
    "\n",
    "![img](images/post_task_files_input.png)\n",
    "\n",
    "Here we will do another POST, and we need to know the task ID + file token and decide on what file category this is.\n",
    "\n",
    "Setting up the request:"
   ]
  },
  {
   "cell_type": "code",
   "execution_count": null,
   "metadata": {},
   "outputs": [],
   "source": [
    "#  task ID \n",
    "task_id = str(complete_project_data[\"tasks\"][0][\"id\"])  # we get the task ID from the complete project data from step 1\n",
    "\n",
    "\n",
    "#  endpoint\n",
    "url = server_url + \"/tasks/\" + task_id + \"/files/input\"\n",
    "\n",
    "#  data\n",
    "data = {\"token\": file_token, \n",
    "        \"category\": \"WORKFILE\"}"
   ]
  },
  {
   "cell_type": "code",
   "execution_count": null,
   "metadata": {},
   "outputs": [],
   "source": [
    "final_response = requests.post(url, json=data, headers=auth_header)"
   ]
  },
  {
   "cell_type": "code",
   "execution_count": null,
   "metadata": {},
   "outputs": [],
   "source": [
    "final_response.status_code\n"
   ]
  }
 ],
 "metadata": {
  "kernelspec": {
   "display_name": "Python 3",
   "language": "python",
   "name": "python3"
  },
  "language_info": {
   "codemirror_mode": {
    "name": "ipython",
    "version": 3
   },
   "file_extension": ".py",
   "mimetype": "text/x-python",
   "name": "python",
   "nbconvert_exporter": "python",
   "pygments_lexer": "ipython3",
   "version": "3.8.3"
  }
 },
 "nbformat": 4,
 "nbformat_minor": 4
}
