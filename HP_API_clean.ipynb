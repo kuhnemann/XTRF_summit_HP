{
 "cells": [
  {
   "cell_type": "code",
   "execution_count": 2,
   "metadata": {},
   "outputs": [],
   "source": [
    "import requests\n",
    "import json\n",
    "import time\n",
    "\n",
    "from secrets import server_url, token  # edit the secrets.py file and enter your details"
   ]
  },
  {
   "cell_type": "code",
   "execution_count": 9,
   "metadata": {},
   "outputs": [],
   "source": [
    "# setting times for project\n",
    "\n",
    "now = time.time()  # time since epoch start in seconds\n",
    "now_in_ms = now * 1000  # time since epoch start in milliseconds\n",
    "two_days_in_ms = 60 * 60 * 24 * 2 * 1000 #  60 seconds * 60 minutes * 24 hours * 2 = 48 hours worth of milliseconds\n",
    "\n",
    "deadline = now_in_ms + two_days_in_ms  # now in milliseconds + 48 hours worth of milliseconds = deadline 48 hours in the future"
   ]
  },
  {
   "cell_type": "code",
   "execution_count": 10,
   "metadata": {},
   "outputs": [],
   "source": [
    "# this is where we prepare the request\n",
    "\n",
    "# authentication header - this will remain the same and be used in all subsequent requests\n",
    "auth_header = {\"X-AUTH-ACCESS-TOKEN\": token}\n",
    "\n",
    "#  endpoint\n",
    "url = server_url + \"/projects\"\n",
    "\n",
    "#  data \n",
    "data = {\n",
    "          \"customerId\": 1,                      # <- This ID is specific to the XTRF instance \n",
    "          \"sourceLanguageId\": 219,              # <- This ID is specific to the XTRF instance \n",
    "          \"targetLanguagesIds\": [               # <- This square bracket starts an \"array\" \n",
    "            73                                  # <- This ID is specific to the XTRF instance\n",
    "          ],                                    # <- This square bracket closes the array\n",
    "          \"specializationId\": 7,                # <- This ID is specific to the XTRF instance\n",
    "          \"serviceId\": 8,                       # <- This ID is specific to the XTRF instance\n",
    "          \"dates\": {                            # <- This curly brace opens a nested JSON object\n",
    "            \"startDate\": {                      # <- This curly brace opens another nested JSON object\n",
    "              \"time\": now_in_ms                 # <- so-called epoch time, in milliseconds\n",
    "            },                                  # <- This curly brace closes the startDate nested JSON object\n",
    "            \"deadline\": {\n",
    "              \"time\": deadline                  # <- so-called epoch time, in milliseconds\n",
    "            }\n",
    "          },                                    # <- This curly brace closes the nested JSON object\n",
    "          \"name\": \"XTRF Summit 2020 #online\",   # <- The name of the project, will be carried over to tasks \n",
    "          \"people\": {\n",
    "            \"responsiblePersons\": {\n",
    "              \"projectManagerId\": 1             # <- This ID is specific to the XTRF instance \n",
    "            },\n",
    "            \"customerContacts\": {               # <- customerContacts is optional, if not set, XTRF will add default customer contact\n",
    "                \"primaryId\": 1,                 # <- This ID is specific to the XTRF instance\n",
    "                \"sendBackToId\": 2               # <- This ID is specific to the XTRF instance\n",
    "            }\n",
    "          },\n",
    "          \"instructions\": {                     # <- instructions are optional\n",
    "            \"forProvider\": \"Instructions for linguists <a href='https://google.com'>GO HERE<a>\",\n",
    "            \"fromCustomer\": \"The naming of this field has always puzzled me. :)\",\n",
    "          },\n",
    "        }"
   ]
  },
  {
   "cell_type": "code",
   "execution_count": 11,
   "metadata": {},
   "outputs": [],
   "source": [
    "#  here we make the actual request\n",
    "\n",
    "response = requests.post(url, json=data, headers=auth_header)\n",
    "\n",
    "# and load the response in order to access the structured data \n",
    "loaded_json = json.loads(response.content)\n",
    "\n",
    " "
   ]
  },
  {
   "cell_type": "code",
   "execution_count": 6,
   "metadata": {},
   "outputs": [],
   "source": [
    "# here we get the complete project data, including task data\n",
    "\n",
    "# project ID\n",
    "# the project ID is stored as an integer in the JSON response, and is here converted to a string so that it can be concatenated to the URL\n",
    "project_id = str(loaded_json[\"id\"])  \n",
    "\n",
    "# endpoint\n",
    "url = server_url + \"/projects/\" + project_id\n",
    "\n",
    "# parameters\n",
    "parameters = {\"embed\": \"tasks\"}\n",
    "\n",
    "# we make the request\n",
    "response = requests.get(url, params=parameters, headers=auth_header)\n",
    "\n",
    "# and then load the response\n",
    "complete_project_data = json.loads(response.content)\n",
    "\n"
   ]
  },
  {
   "cell_type": "code",
   "execution_count": 7,
   "metadata": {},
   "outputs": [],
   "source": [
    "# here we upload the file and get the token from the response\n",
    "\n",
    "#  endpoint\n",
    "url = server_url + \"/files\"\n",
    "\n",
    "#  file contents\n",
    "file = {'file': open(\"source_file.docx\", \"rb\")}\n",
    "\n",
    "#  file meta data (name)\n",
    "data = {\"fileName\": \"source_file.docx\"}\n",
    "\n",
    "# we make the request - refer to Requests docs for sending files\n",
    "# https://requests.readthedocs.io/en/master/user/quickstart/#post-a-multipart-encoded-file\n",
    "response = requests.post(url, files=file, json=data, headers=auth_header)\n",
    "\n",
    "# and then load the response\n",
    "loaded_json = json.loads(response.text)\n",
    "\n",
    "# from the response we get the file token \n",
    "file_token = loaded_json[\"token\"]\n",
    "\n"
   ]
  },
  {
   "cell_type": "code",
   "execution_count": 8,
   "metadata": {},
   "outputs": [
    {
     "data": {
      "text/plain": [
       "204"
      ]
     },
     "execution_count": 8,
     "metadata": {},
     "output_type": "execute_result"
    }
   ],
   "source": [
    "# here we add the uploaded file to the first task in the array of tasks in the complete project data \n",
    "\n",
    "#  task ID \n",
    "task_id = str(complete_project_data[\"tasks\"][0][\"id\"])  \n",
    "\n",
    "#  endpoint\n",
    "url = server_url + \"/tasks/\" + task_id + \"/files/input\"\n",
    "\n",
    "#  data\n",
    "data = {\"token\": file_token, \n",
    "        \"category\": \"WORKFILE\"}\n",
    "\n",
    "# we make the request\n",
    "final_response = requests.post(url, json=data, headers=auth_header)\n",
    "final_response.status_code"
   ]
  },
  {
   "cell_type": "code",
   "execution_count": null,
   "metadata": {},
   "outputs": [],
   "source": []
  }
 ],
 "metadata": {
  "kernelspec": {
   "display_name": "Python 3",
   "language": "python",
   "name": "python3"
  },
  "language_info": {
   "codemirror_mode": {
    "name": "ipython",
    "version": 3
   },
   "file_extension": ".py",
   "mimetype": "text/x-python",
   "name": "python",
   "nbconvert_exporter": "python",
   "pygments_lexer": "ipython3",
   "version": "3.8.3"
  }
 },
 "nbformat": 4,
 "nbformat_minor": 4
}
